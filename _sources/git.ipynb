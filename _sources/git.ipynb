{
 "cells": [
  {
   "cell_type": "markdown",
   "id": "48948311-a680-4cac-937c-7fac10ddccf8",
   "metadata": {},
   "source": [
    "# Git & GitHub"
   ]
  },
  {
   "cell_type": "markdown",
   "id": "69c16719-cef5-4101-9889-45be7b040fa5",
   "metadata": {},
   "source": [
    "## Git installation - Windows/WSL"
   ]
  },
  {
   "cell_type": "markdown",
   "id": "5b633158-d028-4752-bee8-94e22adc337b",
   "metadata": {},
   "source": [
    "## Git repo guide\n",
    "### Initializing a local repo\n",
    "* Create a project directory and initialize a new local repo:"
   ]
  },
  {
   "cell_type": "code",
   "execution_count": null,
   "id": "21b7e6a1-2955-4500-a03a-71a2ad12d2db",
   "metadata": {},
   "outputs": [],
   "source": [
    "mkdir NewProject\n",
    "cd NewProject\n",
    "# if using git > 2.28.0, you can create a root branch named \"main\" right away:\n",
    "git init -b main\n",
    "# this will make pushing to remote repo easier\n",
    "# otherwise start with:\n",
    "git init"
   ]
  },
  {
   "cell_type": "markdown",
   "id": "e61e1c52-495d-472c-8703-446ca21abdbb",
   "metadata": {},
   "source": [
    "### Working with repo tracking\n",
    "* work on your project\n",
    "* use following commands to <b>stage</b> the files for the commit"
   ]
  },
  {
   "cell_type": "code",
   "execution_count": null,
   "id": "1f1cf394-c6c9-4e0c-a4b1-ae757a4986b6",
   "metadata": {},
   "outputs": [],
   "source": [
    "git add . # in case of all files\n",
    "git add *.ipynb # in case of just .ipynb files for instance"
   ]
  },
  {
   "cell_type": "markdown",
   "id": "459a0304-daf1-4f5e-9535-f98b6a51c84b",
   "metadata": {},
   "source": [
    "* to make tracking exclusion of certain files/folders easier, create a <b>.gitignore</b> file which will specify what will never be tracked"
   ]
  },
  {
   "cell_type": "code",
   "execution_count": null,
   "id": "0ae28e65-d972-4e6f-aec3-3fdc6d5d9bcd",
   "metadata": {},
   "outputs": [],
   "source": [
    "# when in working dir\n",
    "touch .gitignore | nano\n",
    "# add exceptions, eg. for jupyter notebooks it would be\n",
    "**/**/ipynb_checkpoints\n",
    "\n",
    "#check \"More info\" for Atlassian's guide on gitignore patterns"
   ]
  },
  {
   "cell_type": "markdown",
   "id": "20db8cc5-c3e6-49b5-98f5-b48f0ef4ff7a",
   "metadata": {},
   "source": [
    "* use following command to check the <b>staging status</b> of the repo and current branch"
   ]
  },
  {
   "cell_type": "code",
   "execution_count": null,
   "id": "51a3b900-8849-412c-89d6-d082b6403c31",
   "metadata": {},
   "outputs": [],
   "source": [
    "git status"
   ]
  },
  {
   "cell_type": "markdown",
   "id": "5ab591fd-abe9-476f-b52c-cdf8daeee688",
   "metadata": {},
   "source": [
    "* to remove a file from staging for commit, use following (remember about --cached option!!)"
   ]
  },
  {
   "cell_type": "code",
   "execution_count": null,
   "id": "d4ec29b4-2c41-45ac-b3b3-0b5809bc3abe",
   "metadata": {},
   "outputs": [],
   "source": [
    "git rm --cached FILE\n",
    "git rm -r --cached DIR\n",
    "# or, safe choice:\n",
    "git reset -- HEAD FILE/DIR"
   ]
  },
  {
   "cell_type": "markdown",
   "id": "5503e342-2f2e-4cac-8ee8-8754b34fcfc7",
   "metadata": {},
   "source": [
    "* when you're ready to call it a day, make a <b>commit</b>"
   ]
  },
  {
   "cell_type": "code",
   "execution_count": null,
   "id": "6cc85105-d0ee-4f25-9e56-3247082e1c52",
   "metadata": {},
   "outputs": [],
   "source": [
    "git commit -m \"Commit summary\""
   ]
  },
  {
   "cell_type": "markdown",
   "id": "61fd9dbd-fd40-469a-a92e-3f914814fcbf",
   "metadata": {},
   "source": [
    "## GitHub guide\n",
    "* create or use an existing account\n",
    "* generate a PAT (personal access token) - will be needed for pushing from local to remote repo through https <br>\n",
    "    Settings -> Developer settings -> Personal access token<br>\n",
    "    Save it somewhere safe\n",
    "* create a new repo without README.md and .gitignore files\n",
    "* copy the https URL\n",
    "* in your local repo directory use following, pasting the https URL:"
   ]
  },
  {
   "cell_type": "code",
   "execution_count": null,
   "id": "7f548686-4295-480d-9046-31acad7278b3",
   "metadata": {},
   "outputs": [],
   "source": [
    "git remote add origin HTTPS"
   ]
  },
  {
   "cell_type": "markdown",
   "id": "3bd85b3b-0f38-4b00-a879-8cfec07b5dbe",
   "metadata": {},
   "source": [
    "* to confirm connecting a remote repo, type:"
   ]
  },
  {
   "cell_type": "code",
   "execution_count": null,
   "id": "84197eeb-7c7c-414d-b812-9e8f963a151c",
   "metadata": {},
   "outputs": [],
   "source": [
    "git remote -v"
   ]
  },
  {
   "cell_type": "markdown",
   "id": "7b4c7aed-bc7f-4e1b-a97c-7186ca7b21c7",
   "metadata": {},
   "source": [
    "* let's change root branch name so it is possible to push it to remote repo"
   ]
  },
  {
   "cell_type": "code",
   "execution_count": null,
   "id": "aff5d24f-cc5a-4c6f-8140-20324c0b385f",
   "metadata": {},
   "outputs": [],
   "source": [
    "git branch -m master main"
   ]
  },
  {
   "cell_type": "markdown",
   "id": "db4f035e-6483-482d-82fa-5db54853c0f2",
   "metadata": {},
   "source": [
    "* to push the commits from local main branch to remote repo:"
   ]
  },
  {
   "cell_type": "code",
   "execution_count": null,
   "id": "d15ee754-7fc4-4b3e-bdf0-f140fb373b27",
   "metadata": {},
   "outputs": [],
   "source": [
    "git push origin main"
   ]
  },
  {
   "cell_type": "markdown",
   "id": "461ff2a3-dc44-43c8-a860-8867469e5299",
   "metadata": {},
   "source": [
    "* git will ask you for GitHub user name and password, which in this case is the PAT (personal access token)"
   ]
  },
  {
   "cell_type": "markdown",
   "id": "1878569d-5ebb-4128-9ccf-fc11811a36a3",
   "metadata": {},
   "source": [
    "## Sources\n",
    "* https://git-scm.com/book/en/v2\n",
    "* https://docs.github.com/en/migrations/importing-source-code/using-the-command-line-to-import-source-code/adding-locally-hosted-code-to-github\n",
    "* https://www.datacamp.com/tutorial/git-push-pull"
   ]
  },
  {
   "cell_type": "markdown",
   "id": "6390481b-8fa5-4ef8-9013-380a21fe3533",
   "metadata": {},
   "source": [
    "## More info\n",
    "* https://www.atlassian.com/git/tutorials/saving-changes/gitignore\n",
    "* https://git-scm.com/book/en/v2"
   ]
  }
 ],
 "metadata": {
  "kernelspec": {
   "display_name": "Python 3 (ipykernel)",
   "language": "python",
   "name": "python3"
  },
  "language_info": {
   "codemirror_mode": {
    "name": "ipython",
    "version": 3
   },
   "file_extension": ".py",
   "mimetype": "text/x-python",
   "name": "python",
   "nbconvert_exporter": "python",
   "pygments_lexer": "ipython3",
   "version": "3.12.1"
  }
 },
 "nbformat": 4,
 "nbformat_minor": 5
}
