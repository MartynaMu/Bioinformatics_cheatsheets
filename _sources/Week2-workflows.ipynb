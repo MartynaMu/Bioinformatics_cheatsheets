{
 "cells": [
  {
   "cell_type": "markdown",
   "id": "919ecb37-787c-4978-b002-12df60c0c5d2",
   "metadata": {},
   "source": [
    "# Week 2 - workflows with Nextflow"
   ]
  },
  {
   "cell_type": "markdown",
   "id": "8d6d7b99-dc5a-4875-97d9-3798d8df2b19",
   "metadata": {},
   "source": [
    "### Running 'viralrecon' pipeline"
   ]
  },
  {
   "cell_type": "code",
   "execution_count": null,
   "id": "5c21b0f6-cf43-4f16-9abb-453c550687ef",
   "metadata": {},
   "outputs": [],
   "source": [
    "$ conda activate nextflow\n",
    "$ nextflow run nf-core/viralrecon -profile singularity \\\n",
    "    --max_memory '12.GB' --max_cpus 4 \\#change into whatever specs you have\n",
    "    --input samplesheet.csv \\\n",
    "    --outdir results/viralrecon \\\n",
    "    --protocol amplicon \\\n",
    "    --genome 'MN908947.3' \\\n",
    "    --primer_set artic \\\n",
    "    --primer_set_version 3 \\\n",
    "    --skip_kraken2 \\\n",
    "    --skip_assembly \\\n",
    "    --skip_pangolin \\\n",
    "    --skip_nextclade \\\n",
    "    --platform illumina"
   ]
  }
 ],
 "metadata": {
  "kernelspec": {
   "display_name": "Python 3 (ipykernel)",
   "language": "python",
   "name": "python3"
  },
  "language_info": {
   "codemirror_mode": {
    "name": "ipython",
    "version": 3
   },
   "file_extension": ".py",
   "mimetype": "text/x-python",
   "name": "python",
   "nbconvert_exporter": "python",
   "pygments_lexer": "ipython3",
   "version": "3.12.1"
  }
 },
 "nbformat": 4,
 "nbformat_minor": 5
}
