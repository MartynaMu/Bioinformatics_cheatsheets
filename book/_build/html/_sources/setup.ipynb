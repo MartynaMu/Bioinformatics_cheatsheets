{
 "cells": [
  {
   "cell_type": "markdown",
   "id": "67ab5b7c-5d18-4cef-9b21-5765a8583f40",
   "metadata": {},
   "source": [
    "# System setup"
   ]
  },
  {
   "cell_type": "markdown",
   "id": "24907d54",
   "metadata": {},
   "source": [
    "## Windows Subsystem for Linux\n",
    "Basically follow official instructions at Windows and software site. In short:\n",
    "* In Windows features enable \"Windows Subsystem for Linux\" and \"Virtual Machine Platforms\", in PS set wsl2 as default\n",
    "* Install Ubuntu from Microsoft Store\n",
    "* Update Ubuntu"
   ]
  },
  {
   "cell_type": "markdown",
   "id": "1e5545a7",
   "metadata": {},
   "source": [
    "## Docker \n",
    "Follow official instructions on Docker site. In short:\n",
    "* Install Docker setup with wsl2 (follow instructions on Docker's page)\n",
    "* Open Docker, go to Settings, confirm it is working with wsl2 and Ubuntu\n",
    "* Open or create a .wslconfig file in C:\\Users\\\\<username\\> and type: \\\n",
    "'[wsl2] \\\n",
    "kernelCommandLine = vsyscall=emulate \\\n",
    "memory=whatever u need \\\n",
    "processors=what u have'\n",
    "* Start terminal inside docker (it will automatically add docker to PATH so you can call it from shell)"
   ]
  },
  {
   "cell_type": "markdown",
   "id": "cbcd3ab8",
   "metadata": {},
   "source": [
    "## Nextflow\n",
    "Follow official instructions at Nextflow site. In short:\n",
    "* Install java if missing 'java -version', 'sudo apt install default-jre'"
   ]
  },
  {
   "cell_type": "code",
   "execution_count": null,
   "id": "1921dbb2",
   "metadata": {},
   "outputs": [],
   "source": [
    "$ java -version\n",
    "$ sudo apt install default-jre"
   ]
  },
  {
   "cell_type": "markdown",
   "id": "160809ba",
   "metadata": {},
   "source": [
    "* Install Nextflow"
   ]
  },
  {
   "cell_type": "code",
   "execution_count": 1,
   "id": "feca99d5",
   "metadata": {},
   "outputs": [
    {
     "ename": "SyntaxError",
     "evalue": "invalid syntax (<ipython-input-1-875bb003884f>, line 1)",
     "output_type": "error",
     "traceback": [
      "\u001b[0;36m  File \u001b[0;32m\"<ipython-input-1-875bb003884f>\"\u001b[0;36m, line \u001b[0;32m1\u001b[0m\n\u001b[0;31m    $ cd /\u001b[0m\n\u001b[0m    ^\u001b[0m\n\u001b[0;31mSyntaxError\u001b[0m\u001b[0;31m:\u001b[0m invalid syntax\n"
     ]
    }
   ],
   "source": [
    "$ cd /\n",
    "$ curl -fsSL get.nextflow.io | bash\n",
    "$ mv nextflow bin/ # add to path\n",
    "$ which nextflow # confirm\n",
    "# close and reopen\n",
    "$ nextflow help # for confirmation of installation\n",
    "$ nextflow self-update # update"
   ]
  },
  {
   "cell_type": "markdown",
   "id": "5acdae75",
   "metadata": {},
   "source": [
    "* Test whatever nf-core pipeline. If WSL2, Docker and Nextflow were installed and configured correctly, the setup should be ready to go. Test for example:"
   ]
  },
  {
   "cell_type": "code",
   "execution_count": null,
   "id": "03f33152",
   "metadata": {},
   "outputs": [],
   "source": [
    "$ nextflow run nf-core/rnaseq -profile test,docker --outdir <FOLDER>"
   ]
  },
  {
   "cell_type": "markdown",
   "id": "211cb20c-c2f7-4a36-8bd6-182ea05068c9",
   "metadata": {},
   "source": [
    "## Miniconda3\n",
    "For controlled package environments\n",
    "* Due to limited disk space and bigger control, for now I prefer to use Miniconda over Anaconda"
   ]
  },
  {
   "cell_type": "code",
   "execution_count": null,
   "id": "8aa20ec6",
   "metadata": {},
   "outputs": [],
   "source": [
    "$ wget https://repo.continuum.io/miniconda/Miniconda3-latest-Linux-x86_64.sh\n",
    "$ bash Miniconda3-latest-Linux-x86_64.sh"
   ]
  },
  {
   "cell_type": "markdown",
   "id": "552e51c3-35d0-4b23-9416-2853d4a315a8",
   "metadata": {},
   "source": [
    "* Accept defaults, after installation close and re-open the terminal, type:"
   ]
  },
  {
   "cell_type": "code",
   "execution_count": null,
   "id": "b0198668-5c7d-409b-851b-a6755f642609",
   "metadata": {},
   "outputs": [],
   "source": [
    "$ conda list\n",
    "# if the command cannot be found, add conda bin to the path:\n",
    "$ export PATH=~/miniconda3/bin:$PATH"
   ]
  },
  {
   "cell_type": "markdown",
   "id": "ff9944fe-44e0-4299-bacd-6ef0993b49a2",
   "metadata": {},
   "source": [
    "* Download, unzip, transfer to working directory the desired env file, create a new env with this file:"
   ]
  },
  {
   "cell_type": "code",
   "execution_count": null,
   "id": "61253083-adc5-4867-8176-436de0135f64",
   "metadata": {},
   "outputs": [],
   "source": [
    "$ conda env create -n MOOC --file MOOC.yml\n",
    "$ conda activate MOOC"
   ]
  },
  {
   "cell_type": "markdown",
   "id": "98f3f1d4-4ed1-4315-92de-0cf08c5694c7",
   "metadata": {},
   "source": [
    "## *Singularity\n",
    "<b>Note:</b> Most nf-core pipelines support Conda but it's recommended to use Docker or Singularity instead. Singularity unlike Docker doesn't require root (admin) access to install."
   ]
  },
  {
   "cell_type": "code",
   "execution_count": null,
   "id": "cd6e3bf9-530c-4831-9da7-8799dc4d0046",
   "metadata": {},
   "outputs": [],
   "source": [
    "# this works for Ubuntu 22.04\n",
    "$ sudo apt install -y runc cryptsetup-bin\n",
    "$ wget -O singularity.deb https://github.com/sylabs/singularity/releases/download/v3.11.4/singularity-ce_3.11.4-jammy_amd64.deb\n",
    "$ sudo dpkg -i singularity.deb\n",
    "$ rm singularity.deb\n",
    "\n",
    "# this worked for my WSL 20.04 - change 'jammy' to\u0000j\u0000a\u0000m\u0000m in URL\n",
    "$ sudo apt install -y runc cryptsetup-bin\n",
    "$ wget -O singularity.deb https://github.com/sylabs/singularity/releases/download/v3.11.4/singularity-ce_3.11.4-focal_amd64.deb\n",
    "$ sudo dpkg -i singularity.deb\n",
    "$ rm singularity.deb\n",
    "\n",
    "# in case of error do following steps\n",
    "$ sudo apt --fix-broken install\n",
    "# in my case i had to install following\n",
    "$ sudo apt install -y uidmap\n",
    "# try again\n",
    "$ sudo apt install -y singularity-ce"
   ]
  },
  {
   "cell_type": "markdown",
   "id": "7f491db1-3209-41a5-9c8a-bdcfbecf44ad",
   "metadata": {},
   "source": [
    "## Sources\n",
    "* Wellcome Connecting Science course on FutureLearn: \"Bioinformatics for Biologists: Analysing and interpreting genomics datasets\""
   ]
  }
 ],
 "metadata": {
  "kernelspec": {
   "display_name": "Python 3",
   "language": "python",
   "name": "python3"
  },
  "language_info": {
   "codemirror_mode": {
    "name": "ipython",
    "version": 3
   },
   "file_extension": ".py",
   "mimetype": "text/x-python",
   "name": "python",
   "nbconvert_exporter": "python",
   "pygments_lexer": "ipython3",
   "version": "3.6.15"
  }
 },
 "nbformat": 4,
 "nbformat_minor": 5
}
