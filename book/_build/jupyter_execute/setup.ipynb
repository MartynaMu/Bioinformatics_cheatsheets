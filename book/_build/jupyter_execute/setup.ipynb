{
 "cells": [
  {
   "cell_type": "markdown",
   "id": "67ab5b7c-5d18-4cef-9b21-5765a8583f40",
   "metadata": {},
   "source": [
    "# Tools setup"
   ]
  },
  {
   "cell_type": "markdown",
   "id": "211cb20c-c2f7-4a36-8bd6-182ea05068c9",
   "metadata": {},
   "source": [
    "## Miniconda3\n",
    "* Due to limited disk space and bigger control, for now I prefer to use Miniconda over Anaconda"
   ]
  },
  {
   "cell_type": "code",
   "execution_count": null,
   "id": "5d71d980-ddf5-4a17-b5af-c07a734c8ffd",
   "metadata": {},
   "outputs": [],
   "source": [
    "$ wget https://repo.continuum.io/miniconda/Miniconda3-latest-Linux-x86_64.sh\n",
    "$ bash Miniconda3-latest-Linux-x86_64.sh"
   ]
  },
  {
   "cell_type": "markdown",
   "id": "552e51c3-35d0-4b23-9416-2853d4a315a8",
   "metadata": {},
   "source": [
    "* Accept defaults, after installation close and re-open the terminal, type:"
   ]
  },
  {
   "cell_type": "code",
   "execution_count": null,
   "id": "b0198668-5c7d-409b-851b-a6755f642609",
   "metadata": {},
   "outputs": [],
   "source": [
    "$ conda list\n",
    "# if the command cannot be found, add conda bin to the path:\n",
    "$ export PATH=~/miniconda3/bin:$PATH"
   ]
  },
  {
   "cell_type": "markdown",
   "id": "ff9944fe-44e0-4299-bacd-6ef0993b49a2",
   "metadata": {},
   "source": [
    "* Download, unzip, transfer to working directory the desired env file, create a new env with this file:"
   ]
  },
  {
   "cell_type": "code",
   "execution_count": null,
   "id": "61253083-adc5-4867-8176-436de0135f64",
   "metadata": {},
   "outputs": [],
   "source": [
    "$ conda env create -n MOOC --file MOOC.yml\n",
    "$ conda activate MOOC"
   ]
  },
  {
   "cell_type": "markdown",
   "id": "b77c6378-694f-4d7e-9441-6acd1fb13ea3",
   "metadata": {},
   "source": [
    "## Nextflow"
   ]
  },
  {
   "cell_type": "markdown",
   "id": "8648a807-cf7f-48f0-96d9-32b599699400",
   "metadata": {},
   "source": [
    "* First ensure you have at least version 8 of java installed. Check by:"
   ]
  },
  {
   "cell_type": "code",
   "execution_count": null,
   "id": "7d277e93-1270-4734-b06f-1664e3eb9fa3",
   "metadata": {},
   "outputs": [],
   "source": [
    "$ java -version"
   ]
  },
  {
   "cell_type": "markdown",
   "id": "a0f271ca-6e50-4ba9-9566-ff9bfe1b11b3",
   "metadata": {},
   "source": [
    "* If not, good luck with installing it on WSL so it works with Nextflow. Try to proceed:"
   ]
  },
  {
   "cell_type": "code",
   "execution_count": null,
   "id": "fa891b1d-16c9-4faa-9f02-482959e42ea7",
   "metadata": {},
   "outputs": [],
   "source": [
    "$ curl -fsSL get.nextflow.io | bash # download and install nf\n",
    "$ mv nextflow ~/bin/ # good practice to add it to your PATH so you can call it from anywhere"
   ]
  },
  {
   "cell_type": "markdown",
   "id": "2af1c831-46a5-4610-b8b2-f0ae4c0501b9",
   "metadata": {},
   "source": [
    "* Workaround is to set it up in conda env:"
   ]
  },
  {
   "cell_type": "code",
   "execution_count": null,
   "id": "b448c3a7-12cb-4ce4-aa1f-e8bde1da1633",
   "metadata": {},
   "outputs": [],
   "source": [
    "# configure channels if not done yet\n",
    "$ conda config --add channels defaults\n",
    "$ conda config --add channels bioconda\n",
    "$ conda config --add channels conda-forge\n",
    "\n",
    "# create an env and install nf\n",
    "$ conda create --name nextflow nextflow\n",
    "$ conda activate nextflow\n",
    "\n",
    "# check if it works\n",
    "$ nextflow help"
   ]
  },
  {
   "cell_type": "markdown",
   "id": "98f3f1d4-4ed1-4315-92de-0cf08c5694c7",
   "metadata": {},
   "source": [
    "## Singularity\n",
    "<b>Note:</b> Most nf-core pipelines support Conda but it's recommended to use Docker or Singularity instead. Singularity unlike Docker doesn't require root (admin) access to install."
   ]
  },
  {
   "cell_type": "code",
   "execution_count": null,
   "id": "cd6e3bf9-530c-4831-9da7-8799dc4d0046",
   "metadata": {},
   "outputs": [],
   "source": [
    "# this works for Ubuntu 22.04\n",
    "$ sudo apt install -y runc cryptsetup-bin\n",
    "$ wget -O singularity.deb https://github.com/sylabs/singularity/releases/download/v3.11.4/singularity-ce_3.11.4-jammy_amd64.deb\n",
    "$ sudo dpkg -i singularity.deb\n",
    "$ rm singularity.deb\n",
    "\n",
    "# this worked for my WSL 20.04 - change 'jammy' to\u0000j\u0000a\u0000m\u0000m in URL\n",
    "$ sudo apt install -y runc cryptsetup-bin\n",
    "$ wget -O singularity.deb https://github.com/sylabs/singularity/releases/download/v3.11.4/singularity-ce_3.11.4-focal_amd64.deb\n",
    "$ sudo dpkg -i singularity.deb\n",
    "$ rm singularity.deb\n",
    "\n",
    "# in case of error do following steps\n",
    "$ sudo apt --fix-broken install\n",
    "# in my case i had to install following\n",
    "$ sudo apt install -y uidmap\n",
    "# try again\n",
    "$ sudo apt install -y singularity-ce"
   ]
  },
  {
   "cell_type": "markdown",
   "id": "7f491db1-3209-41a5-9c8a-bdcfbecf44ad",
   "metadata": {},
   "source": [
    "## Sources\n",
    "* Wellcome Connecting Science course on FutureLearn: \"Bioinformatics for Biologists: Analysing and interpreting genomics datasets\""
   ]
  }
 ],
 "metadata": {
  "kernelspec": {
   "display_name": "Python 3 (ipykernel)",
   "language": "python",
   "name": "python3"
  },
  "language_info": {
   "codemirror_mode": {
    "name": "ipython",
    "version": 3
   },
   "file_extension": ".py",
   "mimetype": "text/x-python",
   "name": "python",
   "nbconvert_exporter": "python",
   "pygments_lexer": "ipython3",
   "version": "3.12.1"
  }
 },
 "nbformat": 4,
 "nbformat_minor": 5
}