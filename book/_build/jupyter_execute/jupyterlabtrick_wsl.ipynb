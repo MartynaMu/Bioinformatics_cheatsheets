{
 "cells": [
  {
   "cell_type": "markdown",
   "id": "6a24b080-e8e3-47aa-bda0-620c001152bf",
   "metadata": {},
   "source": [
    "# WSL incompatibility solutions"
   ]
  },
  {
   "cell_type": "markdown",
   "id": "b67a740d-50af-4b63-aa84-af77642f375a",
   "metadata": {},
   "source": [
    "## Jupyter Lab server not starting"
   ]
  },
  {
   "attachments": {},
   "cell_type": "markdown",
   "id": "67c63e02-eb26-452d-a264-aedaf5929e1f",
   "metadata": {},
   "source": [
    "Starting Jupyter Lab on WSL with this error:\n",
    "![image](../images/wsljupyter.png)"
   ]
  },
  {
   "cell_type": "markdown",
   "id": "2075cec4-c49f-4d48-8705-48b9615cc642",
   "metadata": {},
   "source": [
    "Problem solved by:\n",
    "* generating config file which will be stored in ~/.jupyter folder"
   ]
  },
  {
   "cell_type": "code",
   "execution_count": null,
   "id": "f213a0c3-0d34-47dc-b4a7-eb3d1611b2d4",
   "metadata": {},
   "outputs": [],
   "source": [
    "$ jupyter lab --generate-config"
   ]
  },
  {
   "cell_type": "markdown",
   "id": "c02c7e99-4d2d-478e-9593-046308abd318",
   "metadata": {},
   "source": [
    "* open the file and set the following option to TRUE and unhash"
   ]
  },
  {
   "cell_type": "raw",
   "id": "700229a9-f6ec-47d0-9f03-baad7e9750f2",
   "metadata": {},
   "source": [
    "c.ServerApp.use_redirect_file = False"
   ]
  },
  {
   "cell_type": "markdown",
   "id": "910b4cbe-f8b1-4f79-aab9-84efc788953e",
   "metadata": {},
   "source": [
    "* close and start a new console and open jupyter lab again, should do the trick"
   ]
  }
 ],
 "metadata": {
  "kernelspec": {
   "display_name": "Python 3 (ipykernel)",
   "language": "python",
   "name": "python3"
  },
  "language_info": {
   "codemirror_mode": {
    "name": "ipython",
    "version": 3
   },
   "file_extension": ".py",
   "mimetype": "text/x-python",
   "name": "python",
   "nbconvert_exporter": "python",
   "pygments_lexer": "ipython3",
   "version": "3.12.1"
  }
 },
 "nbformat": 4,
 "nbformat_minor": 5
}