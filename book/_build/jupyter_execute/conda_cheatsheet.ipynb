{
 "cells": [
  {
   "cell_type": "markdown",
   "id": "68c26153-26b8-42c8-a61c-09ba3f140d02",
   "metadata": {},
   "source": [
    "# Conda\n",
    "## Structure\n",
    "* channels: channels are like repositories from which packages can be downloaded<br>\n",
    "    eg. conda-forge is a curated, community-driven, open-source channel which is searched as first for a package to be installed\n",
    "* environments: envs are seperate spaces with their own dependencies/packages which contents do not interact with each other. It is very important for ensuring reproducibility and reusability of programs that you run. Different versions/releases of the same programs may be installed in different environments which makes sure the program will run as intended with declared dependencies because of compatibility. \n",
    "## Creating environments\n",
    "* Best practice is to first create an environment file - YAML file - which will define packages to be installed within the intended environment and then create the env with the .yml file. It is best to install all packages at once, so that all of the dependencies are installed at the same time.\n",
    "* For reproducibility and reusability purposes, it is best to specify the version of each package.\n",
    "* The name of the new env will be as specified in \"name\" section of YAML file.\n",
    "### Useful commands\n",
    "* Create yaml file:"
   ]
  },
  {
   "cell_type": "code",
   "execution_count": null,
   "id": "196adb83-107d-4739-a467-59310a03fd6e",
   "metadata": {},
   "outputs": [],
   "source": [
    "$ vi environment.yml\n",
    "\n",
    "# In environment.yml:\n",
    "name: geoproj\n",
    "channels:  \n",
    "  - conda-forge\n",
    "dependencies:\n",
    "  - python=3.6"
   ]
  },
  {
   "cell_type": "markdown",
   "id": "71e9e8ac-5649-4342-8345-92509e66cfc4",
   "metadata": {},
   "source": [
    "* Now create an environment from the file:"
   ]
  },
  {
   "cell_type": "code",
   "execution_count": null,
   "id": "616483cf-4f9f-4ecb-8e9c-078c4bb432a1",
   "metadata": {},
   "outputs": [],
   "source": [
    "$ conda env create -f environment.yml"
   ]
  },
  {
   "cell_type": "markdown",
   "id": "4824a9b3-bca4-4909-8d17-182c4f076d91",
   "metadata": {},
   "source": [
    "* Sometimes you only need one package, you can create a new env in one line like so:"
   ]
  },
  {
   "cell_type": "code",
   "execution_count": null,
   "id": "fb6db99d-e24a-4df0-a842-85e5b09e3856",
   "metadata": {},
   "outputs": [],
   "source": [
    "$ conda install python=3.6 --channel conda-forge"
   ]
  },
  {
   "cell_type": "markdown",
   "id": "dd6d987e-f961-4516-b161-93c222baae9a",
   "metadata": {},
   "source": [
    "* when installing additional packages:"
   ]
  },
  {
   "cell_type": "code",
   "execution_count": null,
   "id": "e6a76684-6db2-4f53-8761-b259d184f595",
   "metadata": {},
   "outputs": [],
   "source": [
    "$ conda install PKG # when in activated env\n",
    "$ conda install --name ENV PKG # when in a different env"
   ]
  },
  {
   "cell_type": "markdown",
   "id": "f57220c0-f7e2-4de9-a8ee-7b379c6dc0b5",
   "metadata": {},
   "source": [
    "* to remove a package:"
   ]
  },
  {
   "cell_type": "code",
   "execution_count": null,
   "id": "6ef820fc-cb3f-423d-979f-ddacc2acacad",
   "metadata": {},
   "outputs": [],
   "source": [
    "$ conda remove PKG # when in activated env\n",
    "$ conda remove --name ENV PKG # when in a diff env"
   ]
  },
  {
   "cell_type": "markdown",
   "id": "bb0b29fb-c95d-42f4-b826-e74883319b61",
   "metadata": {},
   "source": [
    "### Notes about package updates"
   ]
  },
  {
   "cell_type": "markdown",
   "id": "5a20bbbf-3142-4867-8a9b-e34671b33819",
   "metadata": {},
   "source": [
    "* Conda updates packages to the highest <b>version in its series</b>, so Python 3.8 updates to the highest available in the 3.x series.\n",
    "* <b>The \"conda update\" command will also update the dependencies of the package you are updating. This means that if a package depends on another package, the conda update command will also update the dependency package.</b>\n",
    "* \"--no-deps\": This option prevents the conda update command from updating the dependencies of the package you are updating.\n",
    "* use \"conda update --all\" to update every package and its dependencies at once. Once again, it is best to update all at once."
   ]
  },
  {
   "cell_type": "markdown",
   "id": "7966db14-2c39-4ca7-90d4-5b4372cf8ddf",
   "metadata": {},
   "source": [
    "### Sources:\n",
    "* https://docs.conda.io/projects/conda/en/latest/user-guide/concepts/channels.html\n",
    "* https://geohackweek.github.io/datasharing/01-conda-tutorial/\n",
    "* https://edcarp.github.io/introduction-to-conda-for-data-scientists/02-working-with-environments/index.html"
   ]
  }
 ],
 "metadata": {
  "kernelspec": {
   "display_name": "Python 3 (ipykernel)",
   "language": "python",
   "name": "python3"
  },
  "language_info": {
   "codemirror_mode": {
    "name": "ipython",
    "version": 3
   },
   "file_extension": ".py",
   "mimetype": "text/x-python",
   "name": "python",
   "nbconvert_exporter": "python",
   "pygments_lexer": "ipython3",
   "version": "3.12.1"
  }
 },
 "nbformat": 4,
 "nbformat_minor": 5
}