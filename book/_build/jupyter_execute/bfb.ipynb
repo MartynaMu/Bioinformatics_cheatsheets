{
 "cells": [
  {
   "cell_type": "markdown",
   "id": "f8d736f9-b787-4622-87d5-d50739088adf",
   "metadata": {},
   "source": [
    "# Course notes: Bioinformatics for Biologists"
   ]
  },
  {
   "cell_type": "markdown",
   "id": "6421c131-ac55-46d3-9262-8a6ac11d47b0",
   "metadata": {},
   "source": [
    "This chapter contains notes from regular workflow for RNA-seq data processing which is a summary of a course \"Bioinformatics for Biologists\" of Wellcome Connecting Science."
   ]
  }
 ],
 "metadata": {
  "kernelspec": {
   "display_name": "Python 3 (ipykernel)",
   "language": "python",
   "name": "python3"
  },
  "language_info": {
   "codemirror_mode": {
    "name": "ipython",
    "version": 3
   },
   "file_extension": ".py",
   "mimetype": "text/x-python",
   "name": "python",
   "nbconvert_exporter": "python",
   "pygments_lexer": "ipython3",
   "version": "3.12.1"
  }
 },
 "nbformat": 4,
 "nbformat_minor": 5
}