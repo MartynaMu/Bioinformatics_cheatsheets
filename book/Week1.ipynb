{
 "cells": [
  {
   "cell_type": "markdown",
   "id": "62a40678-87a0-4d57-8118-130fde8aa6b1",
   "metadata": {},
   "source": [
    "# Week 1 - setup, sequencing QC, mapping, variant calling"
   ]
  },
  {
   "cell_type": "markdown",
   "id": "c578ccf6-f19e-4fa8-9754-48c791a40514",
   "metadata": {},
   "source": [
    "## Setup\n",
    "Due to a couple of problems along the way, the whole setup is summarized in cheatsheets. This includes Miniconda3, packages, Nextflow and Singularity installations."
   ]
  },
  {
   "cell_type": "markdown",
   "id": "e8bd5368-e76e-4e04-908a-68bd3c739299",
   "metadata": {},
   "source": [
    "## Sequencing Quality Control\n",
    "* Download the fasta compressed file (MN908947.fasta.zip) containing Wuhan-1 reference sequence into working directory\n",
    "* Activate MOOC environment"
   ]
  },
  {
   "cell_type": "code",
   "execution_count": null,
   "id": "05b0d8d0-6743-4eb1-868e-2ccb668ae9f7",
   "metadata": {},
   "outputs": [],
   "source": [
    "$ conda activate MOOC"
   ]
  },
  {
   "cell_type": "markdown",
   "id": "500eadd0-806c-4a85-ab6c-e14b06fed461",
   "metadata": {},
   "source": [
    "* Download the sequence data for following samples using:"
   ]
  },
  {
   "cell_type": "code",
   "execution_count": null,
   "id": "4311b208-52f8-4265-9a14-7656708f21a8",
   "metadata": {},
   "outputs": [],
   "source": [
    "$ fastq-dump --split-files ERR5743893"
   ]
  },
  {
   "cell_type": "markdown",
   "id": "f11e08b1-8cf0-4fa2-894a-2251740e2122",
   "metadata": {},
   "source": [
    "* Create a folder to store QC reports"
   ]
  },
  {
   "cell_type": "code",
   "execution_count": null,
   "id": "46e3bb13-5745-4be4-aa17-eee8b5358b39",
   "metadata": {},
   "outputs": [],
   "source": [
    "$ mkdir -p QC_Reports"
   ]
  },
  {
   "cell_type": "markdown",
   "id": "ceb0e3d6-0154-4e51-a923-1c3c1e6fd98e",
   "metadata": {},
   "source": [
    "* Run fastqc on the two fastq files we just downloaded"
   ]
  },
  {
   "cell_type": "code",
   "execution_count": null,
   "id": "922046e3-9b5c-4ec7-b503-c70b04419871",
   "metadata": {},
   "outputs": [],
   "source": [
    "$ fastqc ERR5743893_1.fastq ERR5743893_2.fastq --outdir QC_Reports"
   ]
  },
  {
   "cell_type": "markdown",
   "id": "0bf5609f-189a-4f05-a7e7-9c662d43e47b",
   "metadata": {},
   "source": [
    "* FastQC creates an .html report for each file. To have it summarized in one report we use a tool called multiQC."
   ]
  },
  {
   "cell_type": "code",
   "execution_count": null,
   "id": "f5028e17-5d38-4457-9dbd-299fe7b1433c",
   "metadata": {},
   "outputs": [],
   "source": [
    "$ multiqc ."
   ]
  },
  {
   "cell_type": "markdown",
   "id": "189a9be3-66a8-4c37-b37c-9b69ace1809d",
   "metadata": {},
   "source": [
    "* Open the multiqc_report.html in the web browser and explore the output"
   ]
  },
  {
   "cell_type": "markdown",
   "id": "cd23bc3c-5be6-434c-a3ee-db5c60c1399d",
   "metadata": {},
   "source": [
    "## Mapping sample sequence to reference\n",
    "Steps:\n",
    "1. Indexing reference genome - fasta.fai\n",
    "2. Map sequences - .sam\n",
    "3. Compress to binary file - .bam\n",
    "4. Sort the .bam for quicker downstream processing - (sorted).bam\n",
    "5. Index sorted.bam file - (sorted).bam.bai\n",
    "6. *Visualize in Integrative Genomics Viewer (IGV)"
   ]
  },
  {
   "cell_type": "markdown",
   "id": "3528b339-abb0-44f9-a32e-28f25b8a7600",
   "metadata": {},
   "source": [
    "1. Indexing reference genome"
   ]
  },
  {
   "cell_type": "code",
   "execution_count": null,
   "id": "14b0d615-fc4e-4d93-8264-604b3834611e",
   "metadata": {},
   "outputs": [],
   "source": [
    "# be organized\n",
    "$ mkdir Mapping\n",
    "\n",
    "#index\n",
    "$ bwa index MN908947.fasta\n",
    "# or this, since this produces the fasta.fai file for IGV\n",
    "$ samtools faidx MN908947.fasta"
   ]
  },
  {
   "cell_type": "markdown",
   "id": "ec0cd575-0772-446e-b02c-ae050d1fd534",
   "metadata": {},
   "source": [
    "2. Map sequences"
   ]
  },
  {
   "cell_type": "code",
   "execution_count": null,
   "id": "f8eb8b57-4674-4c5c-9a56-6bec227206ba",
   "metadata": {},
   "outputs": [],
   "source": [
    "$ bwa mem MN908947.fasta ERR5743893_1.fastq ERR5743893_2.fastq > Mapping/ERR5743893.sam"
   ]
  },
  {
   "cell_type": "markdown",
   "id": "4486d65e-6bda-475b-964f-ecb3175c574e",
   "metadata": {},
   "source": [
    "* Change to Mapping and check file size"
   ]
  },
  {
   "cell_type": "code",
   "execution_count": null,
   "id": "93dfbfe1-48ca-4271-b768-e898513e7afd",
   "metadata": {},
   "outputs": [],
   "source": [
    "$ cd Mapping\n",
    "$ ls -lhrt"
   ]
  },
  {
   "cell_type": "markdown",
   "id": "5eef31df-362c-4390-be8c-1e403f8e7e0b",
   "metadata": {},
   "source": [
    "3. Compress .sam to .bam"
   ]
  },
  {
   "cell_type": "code",
   "execution_count": null,
   "id": "95c7f1f2-3862-4a6b-b9fa-b8e67964bf5b",
   "metadata": {},
   "outputs": [],
   "source": [
    "$ cd ..\n",
    "$ samtools view -@ 20 -S -b Mapping/ERR5743893.sam > Mapping/ERR5743893.bam # can change nr of threads as to specs"
   ]
  },
  {
   "cell_type": "markdown",
   "id": "16976ba3-7b61-41bc-9749-24d4f425060d",
   "metadata": {},
   "source": [
    "* Check again the file size to confirm compression"
   ]
  },
  {
   "cell_type": "markdown",
   "id": "da5be330-5e9a-4539-8da2-99fa797bff64",
   "metadata": {},
   "source": [
    "4. Sort the .bam file"
   ]
  },
  {
   "cell_type": "code",
   "execution_count": null,
   "id": "2bbb35a9-37a9-46a2-9559-6b18106e1ed5",
   "metadata": {},
   "outputs": [],
   "source": [
    "$ samtools sort -@ 32 -o Mapping/ERR5743893.sorted.bam Mapping/ERR5743893.bam"
   ]
  },
  {
   "cell_type": "markdown",
   "id": "da33076e-ba4a-4c41-a6ac-ad13afbea844",
   "metadata": {},
   "source": [
    "5. Index the (sorted).bam file"
   ]
  },
  {
   "cell_type": "code",
   "execution_count": null,
   "id": "c04034fa-67bd-4f9c-b8be-d0a943f30fea",
   "metadata": {},
   "outputs": [],
   "source": [
    "$ samtools index Mapping/ERR5743893.sorted.bam"
   ]
  },
  {
   "cell_type": "markdown",
   "id": "14e34231-60fd-4157-b894-c22546823580",
   "metadata": {},
   "source": [
    "6. *Visualize in IGV<br>\n",
    "  Web software: Genome > load refseq.fasta & refseq.fasta.fai<br>\n",
    "  Tracks > load sampleseq.sorted.bam & sampleseq.sorted.bam.bai"
   ]
  },
  {
   "cell_type": "markdown",
   "id": "0e56cb3b-e086-4a15-88af-6cf3be322f7e",
   "metadata": {},
   "source": [
    "## Variant calling\n",
    "* Call variants from .bam file with FreeBayes. This results in .vcf file."
   ]
  },
  {
   "cell_type": "code",
   "execution_count": null,
   "id": "4710ebec-ccad-4ed8-af55-30f3c0344878",
   "metadata": {},
   "outputs": [],
   "source": [
    "$ freebayes -f MN908947.fasta Mapping/ERR5743893.sorted.bam  > ERR5743893.vcf"
   ]
  },
  {
   "cell_type": "markdown",
   "id": "f3eb5b46-7367-4444-a699-d21ad173c8df",
   "metadata": {},
   "source": [
    "* It's good practive to compress and index the VCF file to take up less space. Most tools will accept compressed VCF files so there's no need to uncompress them later."
   ]
  },
  {
   "cell_type": "code",
   "execution_count": null,
   "id": "c7051e10-6d06-4dca-a388-0345e4e7af83",
   "metadata": {},
   "outputs": [],
   "source": [
    "$ bgzip ERR5743893.vcf # index\n",
    "$ tabix ERR5743893.vcf.gz # compress"
   ]
  },
  {
   "cell_type": "markdown",
   "id": "e2ea7a01-f760-43c2-b157-ad87add5c82c",
   "metadata": {},
   "source": [
    "* examples on how to quickly retrieve variant calls:"
   ]
  },
  {
   "cell_type": "code",
   "execution_count": null,
   "id": "c4663819-86e2-46ae-bfad-4394180daada",
   "metadata": {},
   "outputs": [],
   "source": [
    "$ bcftools stats ERR5743893.vcf.gz > ERR5743893_stat.vcf.txt\n",
    "# or\n",
    "$ bcftools view -o output_snps.vcf.gz -O z -v snps,indels ERR5743893.vcf.gz\n",
    "$ bcftools query -f '%TYPE\\n' ERR5743893.vcf.gz | sort | uniq -c"
   ]
  },
  {
   "cell_type": "markdown",
   "id": "c01adee2-1830-44fa-a8cd-54265281c697",
   "metadata": {},
   "source": [
    "## Sources\n",
    "* Wellcome Connecting Science course on FutureLearn: \"Bioinformatics for Biologists: Analysing and interpreting genomics datasets\"\n",
    "* https://github.com/CDCgov/datasets-sars-cov-2\n",
    "* http://www.bioinformatics.babraham.ac.uk/projects/fastqc/\n",
    "* https://multiqc.info/\n",
    "* https://igv.org/app/\n",
    "\n",
    "## More info\n",
    "* https://www.ncbi.nlm.nih.gov/pmc/articles/PMC5860075/\n",
    "* https://dnatech.genomecenter.ucdavis.edu/faqs/when-should-i-trim-my-illumina-reads-and-how-should-i-do-it/\n",
    "* https://www.ncbi.nlm.nih.gov/pmc/articles/PMC3137218/"
   ]
  }
 ],
 "metadata": {
  "kernelspec": {
   "display_name": "Python 3 (ipykernel)",
   "language": "python",
   "name": "python3"
  },
  "language_info": {
   "codemirror_mode": {
    "name": "ipython",
    "version": 3
   },
   "file_extension": ".py",
   "mimetype": "text/x-python",
   "name": "python",
   "nbconvert_exporter": "python",
   "pygments_lexer": "ipython3",
   "version": "3.12.1"
  }
 },
 "nbformat": 4,
 "nbformat_minor": 5
}
